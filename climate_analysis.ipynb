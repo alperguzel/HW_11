{
 "cells": [
  {
   "cell_type": "code",
   "execution_count": 12,
   "metadata": {},
   "outputs": [],
   "source": [
    "import pandas as pd\n",
    "import numpy as np\n",
    "import matplotlib.pyplot as plt\n",
    "import datetime as dt\n",
    "from matplotlib import style\n",
    "style.use('seaborn')"
   ]
  },
  {
   "cell_type": "code",
   "execution_count": 29,
   "metadata": {},
   "outputs": [],
   "source": [
    "import sqlalchemy\n",
    "from sqlalchemy.ext.automap import automap_base\n",
    "from sqlalchemy.orm import Session\n",
    "from sqlalchemy import create_engine, func"
   ]
  },
  {
   "cell_type": "code",
   "execution_count": 3,
   "metadata": {},
   "outputs": [],
   "source": [
    "engine = create_engine(\"sqlite:///Resources/hawaii.sqlite\")"
   ]
  },
  {
   "cell_type": "code",
   "execution_count": 4,
   "metadata": {},
   "outputs": [],
   "source": [
    "Base = automap_base()"
   ]
  },
  {
   "cell_type": "code",
   "execution_count": 5,
   "metadata": {},
   "outputs": [],
   "source": [
    "Base.prepare(engine, reflect=True)"
   ]
  },
  {
   "cell_type": "code",
   "execution_count": 6,
   "metadata": {},
   "outputs": [
    {
     "data": {
      "text/plain": [
       "['measurement', 'station']"
      ]
     },
     "execution_count": 6,
     "metadata": {},
     "output_type": "execute_result"
    }
   ],
   "source": [
    "Base.classes.keys()"
   ]
  },
  {
   "cell_type": "code",
   "execution_count": 7,
   "metadata": {},
   "outputs": [],
   "source": [
    "Measurement = Base.classes.measurement\n",
    "Station = Base.classes.station"
   ]
  },
  {
   "cell_type": "code",
   "execution_count": 8,
   "metadata": {},
   "outputs": [],
   "source": [
    "session = Session(engine)"
   ]
  },
  {
   "cell_type": "code",
   "execution_count": 10,
   "metadata": {},
   "outputs": [
    {
     "name": "stdout",
     "output_type": "stream",
     "text": [
      "('2017-08-23',)\n"
     ]
    }
   ],
   "source": [
    "# Precipitation Analysis\n",
    "\n",
    "\n",
    "# find out the last date in database\n",
    "last_date = (session\n",
    "            .query(Measurement.date)\n",
    "            .order_by(Measurement.date.desc()).first())\n",
    "print(last_date)"
   ]
  },
  {
   "cell_type": "code",
   "execution_count": 13,
   "metadata": {},
   "outputs": [
    {
     "name": "stdout",
     "output_type": "stream",
     "text": [
      "2016-08-23\n"
     ]
    }
   ],
   "source": [
    "# i need th elast 12 months\n",
    "year_ago = dt.date(2017, 8, 23) - dt.timedelta(days=365)\n",
    "print(year_ago)"
   ]
  },
  {
   "cell_type": "code",
   "execution_count": 14,
   "metadata": {},
   "outputs": [],
   "source": [
    "\n",
    "results_of_last_year = (session\n",
    "                       .query(Measurement.date, Measurement.prcp)\n",
    "                       .filter(Measurement.date > year_ago)\n",
    "                       .order_by(Measurement.date).all())\n",
    "# this is a list"
   ]
  },
  {
   "cell_type": "code",
   "execution_count": 15,
   "metadata": {},
   "outputs": [
    {
     "data": {
      "text/html": [
       "<div>\n",
       "<style scoped>\n",
       "    .dataframe tbody tr th:only-of-type {\n",
       "        vertical-align: middle;\n",
       "    }\n",
       "\n",
       "    .dataframe tbody tr th {\n",
       "        vertical-align: top;\n",
       "    }\n",
       "\n",
       "    .dataframe thead th {\n",
       "        text-align: right;\n",
       "    }\n",
       "</style>\n",
       "<table border=\"1\" class=\"dataframe\">\n",
       "  <thead>\n",
       "    <tr style=\"text-align: right;\">\n",
       "      <th></th>\n",
       "      <th>date</th>\n",
       "      <th>prcp</th>\n",
       "    </tr>\n",
       "  </thead>\n",
       "  <tbody>\n",
       "    <tr>\n",
       "      <th>0</th>\n",
       "      <td>2016-08-24</td>\n",
       "      <td>0.08</td>\n",
       "    </tr>\n",
       "    <tr>\n",
       "      <th>1</th>\n",
       "      <td>2016-08-24</td>\n",
       "      <td>2.15</td>\n",
       "    </tr>\n",
       "    <tr>\n",
       "      <th>2</th>\n",
       "      <td>2016-08-24</td>\n",
       "      <td>2.28</td>\n",
       "    </tr>\n",
       "    <tr>\n",
       "      <th>3</th>\n",
       "      <td>2016-08-24</td>\n",
       "      <td>1.22</td>\n",
       "    </tr>\n",
       "    <tr>\n",
       "      <th>4</th>\n",
       "      <td>2016-08-24</td>\n",
       "      <td>2.15</td>\n",
       "    </tr>\n",
       "  </tbody>\n",
       "</table>\n",
       "</div>"
      ],
      "text/plain": [
       "         date  prcp\n",
       "0  2016-08-24  0.08\n",
       "1  2016-08-24  2.15\n",
       "2  2016-08-24  2.28\n",
       "3  2016-08-24  1.22\n",
       "4  2016-08-24  2.15"
      ]
     },
     "execution_count": 15,
     "metadata": {},
     "output_type": "execute_result"
    }
   ],
   "source": [
    "results_df = pd.DataFrame(results_of_last_year)\n",
    "results_df.head()"
   ]
  },
  {
   "cell_type": "code",
   "execution_count": 17,
   "metadata": {},
   "outputs": [
    {
     "data": {
      "text/html": [
       "<div>\n",
       "<style scoped>\n",
       "    .dataframe tbody tr th:only-of-type {\n",
       "        vertical-align: middle;\n",
       "    }\n",
       "\n",
       "    .dataframe tbody tr th {\n",
       "        vertical-align: top;\n",
       "    }\n",
       "\n",
       "    .dataframe thead th {\n",
       "        text-align: right;\n",
       "    }\n",
       "</style>\n",
       "<table border=\"1\" class=\"dataframe\">\n",
       "  <thead>\n",
       "    <tr style=\"text-align: right;\">\n",
       "      <th></th>\n",
       "      <th>prcp</th>\n",
       "    </tr>\n",
       "    <tr>\n",
       "      <th>date</th>\n",
       "      <th></th>\n",
       "    </tr>\n",
       "  </thead>\n",
       "  <tbody>\n",
       "    <tr>\n",
       "      <th>2016-08-24</th>\n",
       "      <td>0.08</td>\n",
       "    </tr>\n",
       "    <tr>\n",
       "      <th>2016-08-24</th>\n",
       "      <td>2.15</td>\n",
       "    </tr>\n",
       "    <tr>\n",
       "      <th>2016-08-24</th>\n",
       "      <td>2.28</td>\n",
       "    </tr>\n",
       "    <tr>\n",
       "      <th>2016-08-24</th>\n",
       "      <td>1.22</td>\n",
       "    </tr>\n",
       "    <tr>\n",
       "      <th>2016-08-24</th>\n",
       "      <td>2.15</td>\n",
       "    </tr>\n",
       "  </tbody>\n",
       "</table>\n",
       "</div>"
      ],
      "text/plain": [
       "            prcp\n",
       "date            \n",
       "2016-08-24  0.08\n",
       "2016-08-24  2.15\n",
       "2016-08-24  2.28\n",
       "2016-08-24  1.22\n",
       "2016-08-24  2.15"
      ]
     },
     "execution_count": 17,
     "metadata": {},
     "output_type": "execute_result"
    }
   ],
   "source": [
    "# for plot i need to set index date\n",
    "results_df.set_index('date').head(5)"
   ]
  },
  {
   "cell_type": "code",
   "execution_count": 24,
   "metadata": {},
   "outputs": [
    {
     "data": {
      "image/png": "[encoded data removed]",
      "text/plain": [
       "<matplotlib.figure.Figure at 0x1190b6e80>"
      ]
     },
     "metadata": {},
     "output_type": "display_data"
    }
   ],
   "source": [
    "# plot chart of results\n",
    "results_df.plot('date', 'prcp')\n",
    "plt.xlabel('Date')\n",
    "plt.ylabel(\"Rain in Inches\")\n",
    "plt.title(\"Precipitation Analysis from 8/24/16 to 8/23/17 \")\n",
    "plt.legend([\"Precipitation\"])\n",
    "plt.tight_layout()\n",
    "plt.show()"
   ]
  },
  {
   "cell_type": "code",
   "execution_count": 20,
   "metadata": {},
   "outputs": [
    {
     "data": {
      "text/html": [
       "<div>\n",
       "<style scoped>\n",
       "    .dataframe tbody tr th:only-of-type {\n",
       "        vertical-align: middle;\n",
       "    }\n",
       "\n",
       "    .dataframe tbody tr th {\n",
       "        vertical-align: top;\n",
       "    }\n",
       "\n",
       "    .dataframe thead th {\n",
       "        text-align: right;\n",
       "    }\n",
       "</style>\n",
       "<table border=\"1\" class=\"dataframe\">\n",
       "  <thead>\n",
       "    <tr style=\"text-align: right;\">\n",
       "      <th></th>\n",
       "      <th>prcp</th>\n",
       "    </tr>\n",
       "  </thead>\n",
       "  <tbody>\n",
       "    <tr>\n",
       "      <th>count</th>\n",
       "      <td>2015.000000</td>\n",
       "    </tr>\n",
       "    <tr>\n",
       "      <th>mean</th>\n",
       "      <td>0.176462</td>\n",
       "    </tr>\n",
       "    <tr>\n",
       "      <th>std</th>\n",
       "      <td>0.460288</td>\n",
       "    </tr>\n",
       "    <tr>\n",
       "      <th>min</th>\n",
       "      <td>0.000000</td>\n",
       "    </tr>\n",
       "    <tr>\n",
       "      <th>25%</th>\n",
       "      <td>0.000000</td>\n",
       "    </tr>\n",
       "    <tr>\n",
       "      <th>50%</th>\n",
       "      <td>0.020000</td>\n",
       "    </tr>\n",
       "    <tr>\n",
       "      <th>75%</th>\n",
       "      <td>0.130000</td>\n",
       "    </tr>\n",
       "    <tr>\n",
       "      <th>max</th>\n",
       "      <td>6.700000</td>\n",
       "    </tr>\n",
       "  </tbody>\n",
       "</table>\n",
       "</div>"
      ],
      "text/plain": [
       "              prcp\n",
       "count  2015.000000\n",
       "mean      0.176462\n",
       "std       0.460288\n",
       "min       0.000000\n",
       "25%       0.000000\n",
       "50%       0.020000\n",
       "75%       0.130000\n",
       "max       6.700000"
      ]
     },
     "execution_count": 20,
     "metadata": {},
     "output_type": "execute_result"
    }
   ],
   "source": [
    "results_df.describe()"
   ]
  },
  {
   "cell_type": "code",
   "execution_count": 27,
   "metadata": {},
   "outputs": [
    {
     "name": "stdout",
     "output_type": "stream",
     "text": [
      "There are 9 stations in Hawaii\n"
     ]
    }
   ],
   "source": [
    "# Station Analysis\n",
    "\n",
    "total_station = (session\n",
    "                .query(Station.station)\n",
    "                .count())\n",
    "print(f'There are {total_station} stations in Hawaii')"
   ]
  },
  {
   "cell_type": "code",
   "execution_count": 41,
   "metadata": {},
   "outputs": [
    {
     "name": "stdout",
     "output_type": "stream",
     "text": [
      "Here is the list of station with their observation number \n",
      "Staion USC00519281 has 2772 observations\n",
      "Staion USC00513117 has 2696 observations\n",
      "Staion USC00519397 has 2685 observations\n",
      "Staion USC00519523 has 2572 observations\n",
      "Staion USC00516128 has 2484 observations\n",
      "Staion USC00514830 has 1937 observations\n",
      "Staion USC00511918 has 1932 observations\n",
      "Staion USC00517948 has 683 observations\n",
      "Staion USC00518838 has 342 observations\n"
     ]
    }
   ],
   "source": [
    "busy_station = (session\n",
    "                .query(Measurement.station, func.count(Measurement.tobs))\n",
    "                .group_by(Measurement.station)\n",
    "                .order_by(func.count(Measurement.tobs).desc()).all()\n",
    "               )\n",
    "\n",
    "print('Here is the list of station with their observation number ')\n",
    "# i need to do unpacking and itterows.\n",
    "for station, observation in busy_station:\n",
    "    print(f'Staion {station} has {observation} observations')\n",
    "\n"
   ]
  },
  {
   "cell_type": "code",
   "execution_count": 42,
   "metadata": {},
   "outputs": [
    {
     "name": "stdout",
     "output_type": "stream",
     "text": [
      "The most active station is USC00519281\n"
     ]
    }
   ],
   "source": [
    "busiest = busy_station[0][0]\n",
    "\n",
    "print(f'The most active station is {busiest}')"
   ]
  },
  {
   "cell_type": "code",
   "execution_count": 44,
   "metadata": {},
   "outputs": [],
   "source": [
    "temp_obs = (session\n",
    "            .query(Measurement.station, Measurement.date, Measurement.tobs)\n",
    "            .filter(Measurement.station == busiest)\n",
    "            .filter(Measurement.date > year_ago)\n",
    "            .order_by(Measurement.date).all())"
   ]
  },
  {
   "cell_type": "code",
   "execution_count": 46,
   "metadata": {},
   "outputs": [
    {
     "data": {
      "text/html": [
       "<div>\n",
       "<style scoped>\n",
       "    .dataframe tbody tr th:only-of-type {\n",
       "        vertical-align: middle;\n",
       "    }\n",
       "\n",
       "    .dataframe tbody tr th {\n",
       "        vertical-align: top;\n",
       "    }\n",
       "\n",
       "    .dataframe thead th {\n",
       "        text-align: right;\n",
       "    }\n",
       "</style>\n",
       "<table border=\"1\" class=\"dataframe\">\n",
       "  <thead>\n",
       "    <tr style=\"text-align: right;\">\n",
       "      <th></th>\n",
       "      <th>station</th>\n",
       "      <th>date</th>\n",
       "      <th>tobs</th>\n",
       "    </tr>\n",
       "  </thead>\n",
       "  <tbody>\n",
       "    <tr>\n",
       "      <th>0</th>\n",
       "      <td>USC00519281</td>\n",
       "      <td>2016-08-24</td>\n",
       "      <td>77</td>\n",
       "    </tr>\n",
       "    <tr>\n",
       "      <th>1</th>\n",
       "      <td>USC00519281</td>\n",
       "      <td>2016-08-25</td>\n",
       "      <td>80</td>\n",
       "    </tr>\n",
       "    <tr>\n",
       "      <th>2</th>\n",
       "      <td>USC00519281</td>\n",
       "      <td>2016-08-26</td>\n",
       "      <td>80</td>\n",
       "    </tr>\n",
       "    <tr>\n",
       "      <th>3</th>\n",
       "      <td>USC00519281</td>\n",
       "      <td>2016-08-27</td>\n",
       "      <td>75</td>\n",
       "    </tr>\n",
       "    <tr>\n",
       "      <th>4</th>\n",
       "      <td>USC00519281</td>\n",
       "      <td>2016-08-28</td>\n",
       "      <td>73</td>\n",
       "    </tr>\n",
       "  </tbody>\n",
       "</table>\n",
       "</div>"
      ],
      "text/plain": [
       "       station        date  tobs\n",
       "0  USC00519281  2016-08-24    77\n",
       "1  USC00519281  2016-08-25    80\n",
       "2  USC00519281  2016-08-26    80\n",
       "3  USC00519281  2016-08-27    75\n",
       "4  USC00519281  2016-08-28    73"
      ]
     },
     "execution_count": 46,
     "metadata": {},
     "output_type": "execute_result"
    }
   ],
   "source": [
    "temp_obs_df = pd.DataFrame(temp_obs)\n",
    "temp_obs_df.head()"
   ]
  },
  {
   "cell_type": "code",
   "execution_count": 48,
   "metadata": {},
   "outputs": [
    {
     "data": {
      "image/png": "[encoded data removed]",
      "text/plain": [
       "<matplotlib.figure.Figure at 0x116359e80>"
      ]
     },
     "metadata": {},
     "output_type": "display_data"
    }
   ],
   "source": [
    "plt.hist(temp_obs_df['tobs'],12)\n",
    "plt.xlabel(\"Recorded Temperature\")\n",
    "plt.ylabel(\"Number of Recorded Observations\")\n",
    "plt.title(\"Tempetature Analys of Station \" +busiest+ \" from 8/24/16 to 8/23/17\")\n",
    "plt.show()"
   ]
  },
  {
   "cell_type": "code",
   "execution_count": 75,
   "metadata": {},
   "outputs": [],
   "source": [
    "# Temperature Analysis\n",
    "# calc_temps function\n",
    "\n",
    "def calc_temps(start_date, end_date):\n",
    "    return (session\n",
    "            .query(func.min(Measurement.tobs), func.avg(Measurement.tobs), func.max(Measurement.tobs))\n",
    "           .filter(Measurement.date >= start_date)\n",
    "           .filter(Measurement.date <= end_date)\n",
    "           .all()\n",
    "           )\n"
   ]
  },
  {
   "cell_type": "code",
   "execution_count": 76,
   "metadata": {},
   "outputs": [
    {
     "name": "stdout",
     "output_type": "stream",
     "text": [
      "Minimum Temperatue is 71 Average Temperature is 83 Maximum Temperature is 79.6896551724138 between 2017-08-02 and 2017-08-09\n"
     ]
    }
   ],
   "source": [
    "# let say my trip start 2018-08-02, and would end 2018-08-09\n",
    "trip_start = dt.date(2018, 8, 2)\n",
    "trip_end = dt.date(2018, 8, 9)\n",
    "one_year = dt.timedelta(days=365)\n",
    "start_date = trip_start - one_year\n",
    "end_date = trip_end - one_year\n",
    "\n",
    "temps_for_trip = calc_temps(start_date, end_date)\n",
    "print(\"Minimum Temperatue is \"+str(temps_for_trip[0][0]) + \n",
    "      \" Average Temperature is \"+str(temps_for_trip[0][2]) +\n",
    "      \" Maximum Temperature is \"+str(temps_for_trip[0][1]) + \n",
    "      \" between \" +str(start_date)+ \" and \" +str(end_date)\n",
    "     )"
   ]
  },
  {
   "cell_type": "code",
   "execution_count": 77,
   "metadata": {},
   "outputs": [
    {
     "data": {
      "image/png": "[encoded data removed]",
      "text/plain": [
       "<matplotlib.figure.Figure at 0x1169f49e8>"
      ]
     },
     "metadata": {},
     "output_type": "display_data"
    }
   ],
   "source": [
    "# plotting the data as a boxplot\n",
    "\n",
    "fig, ax = plt.subplots()\n",
    "x = range(len(temps_for_trip))\n",
    "ax.boxplot(temps_for_trip, patch_artist=True)\n",
    "ax.set_title('Average Temperature For Trip From Prior Year')\n",
    "ax.set_ylabel(\"Temperature\")\n",
    "ax.set_xlabel(\"Trip\" + \" between \" +str(start_date)+ \" and \" +str(end_date))\n",
    "fig.tight_layout()\n",
    "plt.show()"
   ]
  },
  {
   "cell_type": "code",
   "execution_count": 81,
   "metadata": {},
   "outputs": [
    {
     "data": {
      "image/png": "[encoded data removed]",
      "text/plain": [
       "<matplotlib.figure.Figure at 0x119a2d940>"
      ]
     },
     "metadata": {},
     "output_type": "display_data"
    }
   ],
   "source": [
    "\n",
    "# plot the calculated min/max/avg from last year for the trip dates as a bar chart# plot t \n",
    "\n",
    "\n",
    "avg_temp = temps_for_trip[0][1]\n",
    "min_temp = temps_for_trip[0][0]\n",
    "max_temp = temps_for_trip[0][2]\n",
    "peek_peek = temps_for_trip[0][2]-temps_for_trip[0][0]\n",
    "\n",
    "fig, ax = plt.subplots()\n",
    "bar_chart = ax.bar(1 , avg_temp, yerr=peek_peek)\n",
    "ax.set_xlabel(\"Trip\" + \" between \" +str(start_date)+ \" and \" +str(end_date))\n",
    "ax.set_ylabel(\"Temperature\")\n",
    "ax.set_title(\"Trip Average Temperature From Prior Year\")\n",
    "\n",
    "def autolabels(rects):\n",
    "    for rect in rects:\n",
    "        h=rect.get_height()\n",
    "        ax.text(rect.get_x() + rect.get_width()/2., .6*h,'%.2f' % float(h) ,ha='center', va='bottom')\n",
    "\n",
    "        \n",
    "    # label the bars \n",
    "autolabels(bar_chart)        \n",
    "plt.ylim(0, 100)\n",
    "plt.xlim(0,2)\n",
    "fig.tight_layout()\n",
    "plt.show()"
   ]
  },
  {
   "cell_type": "code",
   "execution_count": 90,
   "metadata": {},
   "outputs": [
    {
     "name": "stdout",
     "output_type": "stream",
     "text": [
      "All data from all station from previos year that macth our vacation dates\n",
      "Station= USC00514830 Date= 2017-08-02 prcp= 0.05 tobs= 80\n",
      "Station= USC00514830 Date= 2017-08-03 prcp= 0.01 tobs= 81\n",
      "Station= USC00514830 Date= 2017-08-04 prcp= 0.04 tobs= 81\n",
      "Station= USC00514830 Date= 2017-08-06 prcp= 0.0 tobs= 82\n",
      "Station= USC00514830 Date= 2017-08-07 prcp= 0.0 tobs= 81\n",
      "Station= USC00514830 Date= 2017-08-08 prcp= 0.1 tobs= 78\n",
      "Station= USC00514830 Date= 2017-08-09 prcp= 0.0 tobs= 81\n",
      "Station= USC00516128 Date= 2017-08-02 prcp= 0.25 tobs= 80\n",
      "Station= USC00516128 Date= 2017-08-03 prcp= 0.06 tobs= 76\n",
      "Station= USC00516128 Date= 2017-08-07 prcp= 0.05 tobs= 78\n",
      "Station= USC00516128 Date= 2017-08-08 prcp= 0.34 tobs= 74\n",
      "Station= USC00516128 Date= 2017-08-09 prcp= 0.15 tobs= 71\n",
      "Station= USC00519281 Date= 2017-08-04 prcp= 0.0 tobs= 77\n",
      "Station= USC00519281 Date= 2017-08-05 prcp= 0.06 tobs= 82\n",
      "Station= USC00519281 Date= 2017-08-06 prcp= 0.0 tobs= 83\n",
      "Station= USC00519397 Date= 2017-08-02 prcp= 0.0 tobs= 73\n",
      "Station= USC00519397 Date= 2017-08-03 prcp= 0.0 tobs= 79\n",
      "Station= USC00519397 Date= 2017-08-04 prcp= 0.02 tobs= 80\n",
      "Station= USC00519397 Date= 2017-08-05 prcp= 0.0 tobs= 81\n",
      "Station= USC00519397 Date= 2017-08-06 prcp= 0.0 tobs= 80\n",
      "Station= USC00519397 Date= 2017-08-07 prcp= 0.0 tobs= 80\n",
      "Station= USC00519397 Date= 2017-08-08 prcp= 0.0 tobs= 80\n",
      "Station= USC00519397 Date= 2017-08-09 prcp= 0.0 tobs= 80\n",
      "Station= USC00519523 Date= 2017-08-02 prcp= 0.0 tobs= 83\n",
      "Station= USC00519523 Date= 2017-08-03 prcp= 0.0 tobs= 80\n",
      "Station= USC00519523 Date= 2017-08-04 prcp= 0.0 tobs= 82\n",
      "Station= USC00519523 Date= 2017-08-06 prcp= 0.0 tobs= 83\n",
      "Station= USC00519523 Date= 2017-08-07 prcp= 0.0 tobs= 83\n",
      "Station= USC00519523 Date= 2017-08-08 prcp= 0.0 tobs= 82\n"
     ]
    }
   ],
   "source": [
    "# \n",
    "rainfall = (session\n",
    "           .query(Measurement.station, Measurement.date, Measurement.prcp, Measurement.tobs)\n",
    "           .filter(Measurement.date >= start_date)\n",
    "           .filter(Measurement.date <= end_date)\n",
    "           .order_by(Measurement.station).all())\n",
    "print(\"All data from all station from previos year that macth our vacation dates\")\n",
    "\n",
    "for info in rainfall:\n",
    "    \n",
    "    print(\"Station= \"+ info[0]+ \" Date= \" + info[1]+ \" prcp= \"+str(info[2])+ \" tobs= \" +str(info[3]))\n"
   ]
  },
  {
   "cell_type": "code",
   "execution_count": 149,
   "metadata": {},
   "outputs": [],
   "source": [
    "# daily_normals\n",
    "\n",
    "\n",
    "def daily_normals(date):\n",
    "    info_about_date = (session\n",
    "                      .query(func.avg(Measurement.prcp), func.avg(Measurement.tobs))\n",
    "                      .filter(func.strftime(\"%m-%d\", Measurement.date) == date)\n",
    "                      .all())\n",
    "    return print(\"For \" +str(date)+ \" expecting temperature is \"+ str(info_about_date))\n",
    "            \n",
    "\n",
    "\n"
   ]
  },
  {
   "cell_type": "code",
   "execution_count": 151,
   "metadata": {},
   "outputs": [
    {
     "name": "stdout",
     "output_type": "stream",
     "text": [
      "08-02\n",
      "For 08-02 expecting temperature is [(0.14759999999999998, 75.74)]\n"
     ]
    }
   ],
   "source": [
    "# let's say our date is 08-02\n",
    "# spe_date = \"2018-08-02\"\n",
    "# datee = dt.datetime.strftime(spe_date,'%Y-%m-%d')\n",
    "# date = f\"{datee.month}-{datee.day}\"\n",
    "datee = dt.date(2018, 8 ,2)\n",
    "date = datee.strftime(\"%m-%d\")\n",
    "print(date)\n",
    "daily_normals(date)"
   ]
  },
  {
   "cell_type": "code",
   "execution_count": 153,
   "metadata": {},
   "outputs": [
    {
     "name": "stdout",
     "output_type": "stream",
     "text": [
      "For 08-02 expecting temperature is [(0.14759999999999998, 75.74)]\n",
      "For 08-03 expecting temperature is [(0.03627450980392157, 76.37254901960785)]\n",
      "For 08-04 expecting temperature is [(0.11916666666666666, 76.625)]\n",
      "For 08-05 expecting temperature is [(0.11000000000000003, 76.0625)]\n",
      "For 08-06 expecting temperature is [(0.0852, 75.98)]\n",
      "For 08-07 expecting temperature is [(0.11499999999999996, 77.12)]\n",
      "For 08-08 expecting temperature is [(0.11041666666666665, 76.35416666666667)]\n",
      "For 08-09 expecting temperature is [(0.16333333333333333, 75.95833333333333)]\n"
     ]
    }
   ],
   "source": [
    "# Optional Recommended Analysis \n",
    "\n",
    "first_day = dt.date(2018, 8 ,2)\n",
    "last_day = dt.date(2018, 8 ,9)\n",
    "delta = last_day - first_day\n",
    "\n",
    "df_trip = []\n",
    "for i in range(delta.days + 1):\n",
    "    day_1 = first_day + dt.timedelta(i)\n",
    "    day = day_1.strftime(\"%m-%d\")\n",
    "    df_trip.append(daily_normals(day))\n"
   ]
  },
  {
   "cell_type": "code",
   "execution_count": 154,
   "metadata": {},
   "outputs": [
    {
     "data": {
      "text/plain": [
       "[None, None, None, None, None, None, None, None]"
      ]
     },
     "execution_count": 154,
     "metadata": {},
     "output_type": "execute_result"
    }
   ],
   "source": []
  },
  {
   "cell_type": "code",
   "execution_count": null,
   "metadata": {},
   "outputs": [],
   "source": []
  }
 ],
 "metadata": {
  "kernelspec": {
   "display_name": "Python 3",
   "language": "python",
   "name": "python3"
  },
  "language_info": {
   "codemirror_mode": {
    "name": "ipython",
    "version": 3
   },
   "file_extension": ".py",
   "mimetype": "text/x-python",
   "name": "python",
   "nbconvert_exporter": "python",
   "pygments_lexer": "ipython3",
   "version": "3.6.4"
  }
 },
 "nbformat": 4,
 "nbformat_minor": 2
}
